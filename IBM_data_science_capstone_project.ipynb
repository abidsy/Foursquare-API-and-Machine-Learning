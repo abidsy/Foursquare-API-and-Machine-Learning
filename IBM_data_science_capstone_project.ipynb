{
  "nbformat": 4,
  "nbformat_minor": 0,
  "metadata": {
    "kernelspec": {
      "display_name": "Python 3",
      "language": "python",
      "name": "python3"
    },
    "language_info": {
      "codemirror_mode": {
        "name": "ipython",
        "version": 3
      },
      "file_extension": ".py",
      "mimetype": "text/x-python",
      "name": "python",
      "nbconvert_exporter": "python",
      "pygments_lexer": "ipython3",
      "version": "3.7.1"
    },
    "colab": {
      "name": "IBM_data_science_capstone_project.ipynb",
      "provenance": [],
      "collapsed_sections": []
    }
  },
  "cells": [
    {
      "cell_type": "markdown",
      "metadata": {
        "id": "UPBonOP-pQau"
      },
      "source": [
        "# California Restaurant \"Likes\" Prediction Using Foursquare API and Machine Learning"
      ]
    },
    {
      "cell_type": "markdown",
      "metadata": {
        "id": "vxzrWDLipQa0"
      },
      "source": [
        "**Oliver Ma** <br>\n",
        "Capstone Project <br>\n",
        "IBM Data Science Professional Certificate <br> "
      ]
    },
    {
      "cell_type": "markdown",
      "metadata": {
        "id": "VGxxVOnBpQa1"
      },
      "source": [
        "## 1. Introduction"
      ]
    },
    {
      "cell_type": "markdown",
      "metadata": {
        "id": "JtbqvG5vpQa1"
      },
      "source": [
        "California boasts an incredibly diverse collection of restaurants catering to different palettes and appetites. A large part of marketing for a modern restaurant (or any company) is social media, where the number of \"likes\" that the company can receive will dictate its brand and image to the general public. <br>\n",
        "\n",
        "For a new business owner (or existing company) to open a new restaurant in California, knowing ahead of time the potential social media image they can have would provide an excellent solution to the ever present business problem of uncertainty. In this case the uncertainty is regarding performance of social media presence. \n",
        "<br>\n",
        "\n",
        "We can mitigate this uncertainty through leveraging data gathered from FourSquare's API, specifically, we are able to scrape \"likes\" data of different restaurants directly from the API as well as their location and category of cuisine. The question we will try to address is, how accurately can we predict the amount of \"likes\" a new restaurant opening in this region can expect to have based on the type of cuisine it will serve and which city in California it will open in. (For the purposes of this analysis, we will contain the geographical scope of analysis to three heavily populated cities in California, namely San Francisco, Los Angeles, and San Diego). \n",
        "<br>\n",
        "\n",
        "Leveraging this data will solve the problem as it allows the new business owner (or existing company) to make preemptive business decisions regarding opening the restaurant in terms of whether it is feasible to open one in this region and expect good social media presence, what type of cuisine and which city of three would be the best. This project will analyze and model the data via machine learning through comparing both linear and logistic regressions to see which method will yield better predictive capabilities after training and testing. \n",
        "<br>\n",
        "\n",
        "Let us begin by importing the necessary packages.\n",
        "\n"
      ]
    },
    {
      "cell_type": "code",
      "metadata": {
        "id": "6ug5rJaHpQa2"
      },
      "source": [
        "import numpy as np \n",
        "import pandas as pd \n",
        "import json\n",
        "from geopy.geocoders import Nominatim \n",
        "import requests\n",
        "from pandas.io.json import json_normalize \n",
        "import matplotlib.cm as cm\n",
        "import matplotlib.colors as colors\n",
        "\n",
        "import folium \n",
        "from urllib.request import urlopen\n",
        "from bs4 import BeautifulSoup\n",
        "\n",
        "import matplotlib.pyplot as plt\n",
        "import pylab as pl\n",
        "\n",
        "from sklearn import linear_model\n",
        "from sklearn.metrics import jaccard_similarity_score\n",
        "from sklearn.linear_model import LogisticRegression\n",
        "from sklearn.metrics import confusion_matrix\n",
        "from sklearn.metrics import classification_report, confusion_matrix\n",
        "from sklearn.metrics import log_loss\n",
        "from sklearn.metrics import r2_score\n",
        "from sklearn.metrics import mean_squared_error, r2_score\n",
        "import itertools"
      ],
      "execution_count": 2,
      "outputs": []
    },
    {
      "cell_type": "markdown",
      "metadata": {
        "id": "d6f7_4RQrqvt"
      },
      "source": [
        "## 1. Configs"
      ]
    },
    {
      "cell_type": "code",
      "metadata": {
        "id": "p3fnaw0HrqI2"
      },
      "source": [
        "# credentials\n",
        "CLIENT_ID = '1AJETP2F5JJMQ22BA33HNS2YNOF0QKT5HDAJNHBRMK04LQVC' # your Foursquare ID\n",
        "CLIENT_SECRET = 'KEVIFVL2Y0BINL5HGRGRTWGOKUETUMVY5L124X1BJHVBDEOD' # your Foursquare Secret\n",
        "VERSION = '20180605' # Foursquare API version\n",
        "\n",
        "# magic numbers thresholds for data to scrape\n",
        "LIMIT = 100 # limit of number of venues returned by Foursquare API\n",
        "radius = 1000 # define radius\n",
        "\n",
        "# addresses of interest \n",
        "address_list = ['San Francisco, California', 'Los Angeles, California', 'San Diego, California']"
      ],
      "execution_count": 22,
      "outputs": []
    },
    {
      "cell_type": "markdown",
      "metadata": {
        "id": "gIZlBUx9pQa3"
      },
      "source": [
        "# 2. Data "
      ]
    },
    {
      "cell_type": "markdown",
      "metadata": {
        "id": "ILR7tK3epQa4"
      },
      "source": [
        "## 2.1 Data Scraping and Cleaning"
      ]
    },
    {
      "cell_type": "markdown",
      "metadata": {
        "id": "PcGWGX8ZpQa4"
      },
      "source": [
        "In this section we will first retrieve the geographical coordinates of the three cities (San Francisco, Los Angeles, and San Diego). Then, we will leverage the FourSquare API to obtain URLs that lead to the raw data in JSON form. We will speerately scrape the raw data in these URLs in order to retrieve the following columns: \"name\", \"categories\", \"latitude\", \"longitude\". and \"id\" for each city. We can also provide another column (\"city\") to indicate which city the restaurants are from. \n",
        "<br>\n",
        "\n",
        "It is important to note that the extracts are not of every restaurant in those cities but rather all of the restaurants within a 1000KM range of the geographical coordinates that geolocator was able to provide. However, the extraction from the FourSquare API actually obtains venue data so it will include venues other than restaurants such as concert halls, stores, libraries etc. As such, this means that the data will need to be further cleaned somewhat manually by removing all of the non-restaurant rows. Once this is complete, we have a shortened by cleaned list to pull \"likes\" data. The reason the cleaning takes precedence is mainly that pulling the \"likes\" data is the computing process which takes the longest time in this project so we want to make sure we are not pulling information that will end up being dropped anyways.\n",
        "\n",
        "The \"id\" is an important column as it will allow us to further pull the \"likes\" from the API. We can retreive the \"likes\" based on the restaurant \"id\" and then append it to the data frame. Once this is complete, we finally name the dataframe 'raw_dataset' as it is the most complete compiled form before needing any processing for analysis via machine learning. "
      ]
    },
    {
      "cell_type": "code",
      "metadata": {
        "colab": {
          "base_uri": "https://localhost:8080/"
        },
        "id": "EybGFqw7p3gY",
        "outputId": "aa756a92-c0a6-4b92-98df-d63c3387768a"
      },
      "source": [
        "address_tuple_list = []\n",
        "for idx, address in enumerate(address_list):\n",
        "  print(\"now fetching address for {} / {} locations\".format(idx+1, len(address_list)))\n",
        "  location = geolocator.geocode(address)\n",
        "  latitude = location.latitude\n",
        "  longitude = location.longitude \n",
        "  location_tuple = (longitude, latitude)\n",
        "  address_tuple_list.append(location_tuple)\n"
      ],
      "execution_count": 7,
      "outputs": [
        {
          "output_type": "stream",
          "text": [
            "now fetching address for 1 / 3 locations\n",
            "now fetching address for 2 / 3 locations\n",
            "now fetching address for 3 / 3 locations\n"
          ],
          "name": "stdout"
        }
      ]
    },
    {
      "cell_type": "code",
      "metadata": {
        "id": "JQldZkokpQa5",
        "colab": {
          "base_uri": "https://localhost:8080/"
        },
        "outputId": "a0c2fea2-ac37-4f07-ba4f-1b866a26d744"
      },
      "source": [
        "url_list = []\n",
        "for idx, tup in enumerate(address_tuple_list):\n",
        "  print(\"now fetching urls for {} / {} locations\".format(idx+1, len(address_tuple_list)))\n",
        "  url = 'https://api.foursquare.com/v2/venues/explore?&client_id={}&client_secret={}&v={}&ll={},{}&radius={}&limit={}'.format(\n",
        "    CLIENT_ID, \n",
        "    CLIENT_SECRET, \n",
        "    VERSION, \n",
        "    address_tuple_list[idx][1], \n",
        "    address_tuple_list[idx][0], \n",
        "    radius, \n",
        "    LIMIT)\n",
        "  url_list.append(url)"
      ],
      "execution_count": 17,
      "outputs": [
        {
          "output_type": "stream",
          "text": [
            "now fetching urls for 1 / 3 locations\n",
            "now fetching urls for 2 / 3 locations\n",
            "now fetching urls for 3 / 3 locations\n"
          ],
          "name": "stdout"
        }
      ]
    },
    {
      "cell_type": "code",
      "metadata": {
        "id": "uNeBYW2-pQa6"
      },
      "source": [
        "def get_category_type(row):\n",
        "  \"\"\"\n",
        "    returns the category of the venue (if available)\n",
        "  \"\"\"\n",
        "  try:\n",
        "      categories_list = row['categories']\n",
        "  except:\n",
        "      categories_list = row['venue.categories']\n",
        "      \n",
        "  if len(categories_list) == 0:\n",
        "      return None\n",
        "  else:\n",
        "      return categories_list[0]['name']\n",
        "\n",
        "def clean_json(result_json):\n",
        "  \"\"\"\n",
        "    returns a cleaned flattened json for the result of an urlib get request \n",
        "  \"\"\"\n",
        "  venues = result_json['response']['groups'][0]['items']\n",
        "  nearby_venues = pd.json_normalize(venues) # flatten JSON\n",
        "  # filter columns\n",
        "  filtered_columns = ['venue.name', 'venue.categories', 'venue.location.lat', \n",
        "                      'venue.location.lng', 'venue.id']\n",
        "  nearby_venues = nearby_venues.loc[:, filtered_columns]\n",
        "  # filter the category for each row\n",
        "  nearby_venues['venue.categories'] = nearby_venues.apply(get_category_type, axis=1)\n",
        "  # clean columns\n",
        "  nearby_venues.columns = [col.split(\".\")[-1] for col in nearby_venues.columns]\n",
        "  return nearby_venues "
      ],
      "execution_count": 45,
      "outputs": []
    },
    {
      "cell_type": "code",
      "metadata": {
        "colab": {
          "base_uri": "https://localhost:8080/"
        },
        "id": "wqbYK2kyvjvk",
        "outputId": "69b18a70-6b66-43cd-d973-fd7360105fda"
      },
      "source": [
        "df_nearby_venues = pd.DataFrame()\n",
        "for idx, url in enumerate(url_list):\n",
        "  print(\"now fetching results for {} / {} urls\".format(idx+1, len(url_list)))\n",
        "  result = requests.get(url).json()\n",
        "  nearby_venues = clean_json(result)\n",
        "  nearby_venues['city'] = address_list[idx]\n",
        "  df_nearby_venues = df_nearby_venues.append(nearby_venues)"
      ],
      "execution_count": 57,
      "outputs": [
        {
          "output_type": "stream",
          "text": [
            "now fetching results for 1 / 3 urls\n",
            "now fetching results for 2 / 3 urls\n",
            "now fetching results for 3 / 3 urls\n"
          ],
          "name": "stdout"
        }
      ]
    },
    {
      "cell_type": "code",
      "metadata": {
        "colab": {
          "base_uri": "https://localhost:8080/"
        },
        "id": "ih1SPWnb1tfk",
        "outputId": "912524b6-8c20-4086-89f3-534904ba9131"
      },
      "source": [
        "# list of type of venues to remove \n",
        "removal_list = ['Concert Hall', 'Opera House', 'Dance Studio',\n",
        "                'Performing Arts Venue', 'Art Museum', 'Park',\n",
        "                'Massage Studio', 'Music Venue', 'Bookstore', 'Clothing Store',\n",
        "                'Boutique', 'Furniture/Home Store', 'Jazz Club',\n",
        "                'Theater', 'Optical Shop', \"Men's Store\", 'Rock Club',\n",
        "                'Gym / Fitness Center', 'Wine Shop', 'Indie Movie Theater',\n",
        "                'Chocolate Shop', 'Dessert Shop', 'Recreation Center', \n",
        "                'Plaza', 'Hotel', 'Luggage Store', 'Farmers Market', 'Gym',\n",
        "                'Jewelry Store', 'Furniture / Home Store', 'Butcher', \n",
        "                'Bakery', 'Marijuana Dispensary', 'Ice Cream Shop',\n",
        "                'Comic Shop', 'Bagel Shop', 'Spa', 'Liquor Store', 'Bike Shop',\n",
        "                'Yoga Studio', 'Pedestrian Plaza', 'Candy Store',\n",
        "                'Park', 'Bookstore', 'Candy Store',  'Jazz Club', 'Art Gallery', \n",
        "                 'Supermarket', 'Museum', 'Boutique', 'Plaza', 'Building', 'Bakery',\n",
        "                 'Historic Site', 'Ice Cream Shop', ' Concert Hall', 'Pharmacy', \n",
        "                 'Market', 'Movie Theater', 'Performing Arts Venue', 'Music Venue',\n",
        "                 'Theater', 'Art Museum', 'Cheese Shop', 'Opera House',\n",
        "                 'Pedestrian Plaza', 'School', 'Gift Shop', 'Athletics & Sports',\n",
        "                 'Shoe Repair', 'General Entertainment', 'Stationery Store',\n",
        "                 'Toy / Game Store', 'Brewery', 'Hotel', 'Theater', 'Music Venue', 'Business Service',\n",
        "                 'Donut Shop', 'Liquor Store', 'Beer Store',\n",
        "                 'Lounge', 'Plaza', 'Health Food Store', 'Concert Hall', \n",
        "                 'Lingerie Store', 'Gym', 'Mobile Phone Shop',\n",
        "                 'Chocolate Shop', 'Ice Cream Shop', 'Hostel', 'Convenience Store', \n",
        "                 'Park', 'Farmers Market', 'Cosmetics Shop', 'Piano Bar',\n",
        "                 'Nightclub', 'Massage Studio', 'Comedy Club', 'Concert Hall']\n",
        "\n",
        "df_nearby_venues = df_nearby_venues[~df_nearby_venues['categories'].isin(removal_list)]\n",
        "\n",
        "# check that only restaurant data remains\n",
        "df_nearby_venues['categories'].unique()     "
      ],
      "execution_count": 61,
      "outputs": [
        {
          "output_type": "execute_result",
          "data": {
            "text/plain": [
              "array(['Vietnamese Restaurant', 'Tiki Bar', 'Ramen Restaurant',\n",
              "       'Beer Bar', 'Wine Bar', 'Coffee Shop', 'Cocktail Bar',\n",
              "       'French Restaurant', 'Vegetarian / Vegan Restaurant',\n",
              "       'Italian Restaurant', 'Music School',\n",
              "       'Southern / Soul Food Restaurant', 'Café', 'Food & Drink Shop',\n",
              "       'Dumpling Restaurant', 'Event Space', 'Sandwich Place',\n",
              "       'Poke Place', 'Souvlaki Shop', 'Pizza Place', 'Sushi Restaurant',\n",
              "       'New American Restaurant', 'Beer Garden', 'Juice Bar',\n",
              "       'Mexican Restaurant', 'Thai Restaurant', 'American Restaurant',\n",
              "       'German Restaurant', 'Kids Store', 'Bar', 'Accessories Store',\n",
              "       'Indian Restaurant', 'Speakeasy', 'Breakfast Spot',\n",
              "       'Udon Restaurant', 'Japanese Restaurant', 'BBQ Joint',\n",
              "       'Latin American Restaurant', 'Filipino Restaurant',\n",
              "       'Deli / Bodega', 'Mediterranean Restaurant', 'Shopping Mall',\n",
              "       'Cajun / Creole Restaurant', 'Yoshoku Restaurant', 'Restaurant',\n",
              "       'Train Station', 'Noodle House', 'Food Truck', 'Taco Place',\n",
              "       'Seafood Restaurant', 'Brazilian Restaurant', 'Falafel Restaurant',\n",
              "       'Hookah Bar', 'Pub', 'Hot Dog Joint', 'Empanada Restaurant',\n",
              "       'Turkish Restaurant', 'Burger Joint', 'Tattoo Parlor',\n",
              "       'Russian Restaurant'], dtype=object)"
            ]
          },
          "metadata": {
            "tags": []
          },
          "execution_count": 61
        }
      ]
    },
    {
      "cell_type": "code",
      "metadata": {
        "id": "ZU-IKy9npQbA",
        "colab": {
          "base_uri": "https://localhost:8080/"
        },
        "outputId": "74b1b86c-ec7f-4d78-e418-4ee6788922c5"
      },
      "source": [
        "# pull the likes from the API based on venue ID\n",
        "\n",
        "url_list = []\n",
        "like_list = []\n",
        "json_list = []\n",
        "\n",
        "for idx, venue in enumerate(list(df_nearby_venues.id)):\n",
        "  venue_url = 'https://api.foursquare.com/v2/venues/{}/likes?client_id={}&client_secret={}&v={}'.format(venue, CLIENT_ID, CLIENT_SECRET, VERSION)\n",
        "  url_list.append(venue_url)\n",
        "print(\"venue url fetching complete\")\n",
        "\n",
        "for idx, link in enumerate(url_list):\n",
        "  result = requests.get(link).json()\n",
        "  likes = result['response']['likes']['count']\n",
        "  like_list.append(likes)\n",
        "print(\"venue likes fetching complete\")\n",
        "\n",
        "df_nearby_venues['likes'] = like_list"
      ],
      "execution_count": 66,
      "outputs": [
        {
          "output_type": "stream",
          "text": [
            "venue url fetching complete\n",
            "venue likes fetching complete\n"
          ],
          "name": "stdout"
        }
      ]
    },
    {
      "cell_type": "code",
      "metadata": {
        "colab": {
          "base_uri": "https://localhost:8080/",
          "height": 204
        },
        "id": "C87uFMzT3N9I",
        "outputId": "bfc9427f-b0c8-4f27-d9e9-527327bd4229"
      },
      "source": [
        "# check that data has been appropriately scraped and parsed\n",
        "df_nearby_venues.head()"
      ],
      "execution_count": 68,
      "outputs": [
        {
          "output_type": "execute_result",
          "data": {
            "text/html": [
              "<div>\n",
              "<style scoped>\n",
              "    .dataframe tbody tr th:only-of-type {\n",
              "        vertical-align: middle;\n",
              "    }\n",
              "\n",
              "    .dataframe tbody tr th {\n",
              "        vertical-align: top;\n",
              "    }\n",
              "\n",
              "    .dataframe thead th {\n",
              "        text-align: right;\n",
              "    }\n",
              "</style>\n",
              "<table border=\"1\" class=\"dataframe\">\n",
              "  <thead>\n",
              "    <tr style=\"text-align: right;\">\n",
              "      <th></th>\n",
              "      <th>name</th>\n",
              "      <th>categories</th>\n",
              "      <th>lat</th>\n",
              "      <th>lng</th>\n",
              "      <th>id</th>\n",
              "      <th>city</th>\n",
              "      <th>likes</th>\n",
              "    </tr>\n",
              "  </thead>\n",
              "  <tbody>\n",
              "    <tr>\n",
              "      <th>9</th>\n",
              "      <td>DragonEats</td>\n",
              "      <td>Vietnamese Restaurant</td>\n",
              "      <td>37.778289</td>\n",
              "      <td>-122.423266</td>\n",
              "      <td>5005c520e4b0a8ae9875b787</td>\n",
              "      <td>San Francisco, California</td>\n",
              "      <td>175</td>\n",
              "    </tr>\n",
              "    <tr>\n",
              "      <th>11</th>\n",
              "      <td>Smuggler's Cove</td>\n",
              "      <td>Tiki Bar</td>\n",
              "      <td>37.779386</td>\n",
              "      <td>-122.423422</td>\n",
              "      <td>4afe6db4f964a520682f22e3</td>\n",
              "      <td>San Francisco, California</td>\n",
              "      <td>1107</td>\n",
              "    </tr>\n",
              "    <tr>\n",
              "      <th>13</th>\n",
              "      <td>Nojo Ramen Tavern</td>\n",
              "      <td>Ramen Restaurant</td>\n",
              "      <td>37.776637</td>\n",
              "      <td>-122.421270</td>\n",
              "      <td>4d8eabc7d265236af9a71017</td>\n",
              "      <td>San Francisco, California</td>\n",
              "      <td>350</td>\n",
              "    </tr>\n",
              "    <tr>\n",
              "      <th>14</th>\n",
              "      <td>The Beer Hall</td>\n",
              "      <td>Beer Bar</td>\n",
              "      <td>37.776837</td>\n",
              "      <td>-122.417916</td>\n",
              "      <td>519fcb37498e91a13cb23d6b</td>\n",
              "      <td>San Francisco, California</td>\n",
              "      <td>291</td>\n",
              "    </tr>\n",
              "    <tr>\n",
              "      <th>15</th>\n",
              "      <td>Fig &amp; Thistle Wine Bar</td>\n",
              "      <td>Wine Bar</td>\n",
              "      <td>37.777256</td>\n",
              "      <td>-122.423365</td>\n",
              "      <td>51aad1ee498e9bb839540dc7</td>\n",
              "      <td>San Francisco, California</td>\n",
              "      <td>296</td>\n",
              "    </tr>\n",
              "  </tbody>\n",
              "</table>\n",
              "</div>"
            ],
            "text/plain": [
              "                      name             categories        lat         lng  \\\n",
              "9               DragonEats  Vietnamese Restaurant  37.778289 -122.423266   \n",
              "11         Smuggler's Cove               Tiki Bar  37.779386 -122.423422   \n",
              "13       Nojo Ramen Tavern       Ramen Restaurant  37.776637 -122.421270   \n",
              "14           The Beer Hall               Beer Bar  37.776837 -122.417916   \n",
              "15  Fig & Thistle Wine Bar               Wine Bar  37.777256 -122.423365   \n",
              "\n",
              "                          id                       city  likes  \n",
              "9   5005c520e4b0a8ae9875b787  San Francisco, California    175  \n",
              "11  4afe6db4f964a520682f22e3  San Francisco, California   1107  \n",
              "13  4d8eabc7d265236af9a71017  San Francisco, California    350  \n",
              "14  519fcb37498e91a13cb23d6b  San Francisco, California    291  \n",
              "15  51aad1ee498e9bb839540dc7  San Francisco, California    296  "
            ]
          },
          "metadata": {
            "tags": []
          },
          "execution_count": 68
        }
      ]
    },
    {
      "cell_type": "markdown",
      "metadata": {
        "id": "RAWouURbpQbB"
      },
      "source": [
        "## 2.2 Data Preparation"
      ]
    },
    {
      "cell_type": "markdown",
      "metadata": {
        "id": "n-C85N0NpQbB"
      },
      "source": [
        "The data still needs some more processing before it is suitable for model training and testing. Mainly, the \"categories\" column contains too many different types of cuisines to allow a model to yield any meaningful results. However, the different types of natural cuisines have natural groupings based on conventionally accepted cultural groupings of cuisine. Broadly speaking, all of the different types of cuisine could be reclassified as European, Latin American, Asian, North American, drinking establishments (bars), or casual establishments such as coffee shops or ice cream parlours. We can implement manual classification as there really aren't that many different types of cuisines.\n",
        "\n",
        "As this project will compare both linear and logistic regression, it makes sense to have \"likes\" as both a continuous and categorical (but ordinal) variable. In the case of turning into a categorical variable, we can bin the data based on percentiles and classify them into these ordinal percentile categories. I tried different ways of binning but in the end, splitting the sample into three different bins proved to yield the best classification results from a prediction standpoint.\n",
        "\n",
        "As the last stage of data preparation, it is important to note that the regressors are categorical variables (3 different cities and 6 different categories of cusines). Hence, they require dummy variable encoding for meaningful analysis. We can accomplish this via one-hot encoding. "
      ]
    },
    {
      "cell_type": "code",
      "metadata": {
        "id": "FUK8XALMpQbB",
        "colab": {
          "base_uri": "https://localhost:8080/"
        },
        "outputId": "7b91ebdd-4a28-408e-ae97-1bc958c65eb6"
      },
      "source": [
        "# inspecting the raw dataset shows that there may be too many different types of cuisines\n",
        "raw_dataset = df_nearby_venues\n",
        "raw_dataset['categories'].unique()"
      ],
      "execution_count": 69,
      "outputs": [
        {
          "output_type": "execute_result",
          "data": {
            "text/plain": [
              "array(['Vietnamese Restaurant', 'Tiki Bar', 'Ramen Restaurant',\n",
              "       'Beer Bar', 'Wine Bar', 'Coffee Shop', 'Cocktail Bar',\n",
              "       'French Restaurant', 'Vegetarian / Vegan Restaurant',\n",
              "       'Italian Restaurant', 'Music School',\n",
              "       'Southern / Soul Food Restaurant', 'Café', 'Food & Drink Shop',\n",
              "       'Dumpling Restaurant', 'Event Space', 'Sandwich Place',\n",
              "       'Poke Place', 'Souvlaki Shop', 'Pizza Place', 'Sushi Restaurant',\n",
              "       'New American Restaurant', 'Beer Garden', 'Juice Bar',\n",
              "       'Mexican Restaurant', 'Thai Restaurant', 'American Restaurant',\n",
              "       'German Restaurant', 'Kids Store', 'Bar', 'Accessories Store',\n",
              "       'Indian Restaurant', 'Speakeasy', 'Breakfast Spot',\n",
              "       'Udon Restaurant', 'Japanese Restaurant', 'BBQ Joint',\n",
              "       'Latin American Restaurant', 'Filipino Restaurant',\n",
              "       'Deli / Bodega', 'Mediterranean Restaurant', 'Shopping Mall',\n",
              "       'Cajun / Creole Restaurant', 'Yoshoku Restaurant', 'Restaurant',\n",
              "       'Train Station', 'Noodle House', 'Food Truck', 'Taco Place',\n",
              "       'Seafood Restaurant', 'Brazilian Restaurant', 'Falafel Restaurant',\n",
              "       'Hookah Bar', 'Pub', 'Hot Dog Joint', 'Empanada Restaurant',\n",
              "       'Turkish Restaurant', 'Burger Joint', 'Tattoo Parlor',\n",
              "       'Russian Restaurant'], dtype=object)"
            ]
          },
          "metadata": {
            "tags": []
          },
          "execution_count": 69
        }
      ]
    },
    {
      "cell_type": "code",
      "metadata": {
        "id": "qDPj9JlopQbC",
        "colab": {
          "base_uri": "https://localhost:8080/",
          "height": 204
        },
        "outputId": "617de7a2-f796-414a-ae14-b99ba504da1b"
      },
      "source": [
        "# we can group some cuisines together to make a better categorical variable\n",
        "\n",
        "euro = ['French Restaurant', 'Scandinavian Restaurant', 'Souvlaki Shop', \n",
        "       'Mediterranean Restaurant', 'Italian Restaurant', 'Pizza Place']\n",
        "\n",
        "latino = ['Mexican Restaurant', 'Latin American Restaurant', \n",
        "          'Brazilian Restaurant', 'Taco Place']\n",
        "\n",
        "bar = ['Beer Bar', 'Cocktail Bar', 'Tiki Bar', 'Wine Bar', 'Hotel Bar',\n",
        "       'Beer Garden', 'Speakeasy', 'Brewery', 'Pub', 'Bar', 'Gastropub',\n",
        "       'Hookah Bar']\n",
        "\n",
        "asian = ['Ramen Restaurant', 'Sushi Restaurant', 'Vietnamese Restaurant',\n",
        "         'Thai Restaurant', 'Poke Place', 'Indian Restaurant', \n",
        "         'Japanese Curry Restaurant', 'Japanese Restaurant', \n",
        "         'Indonesian Restaurant', 'Udon Restaurant', 'Noodle House',\n",
        "         'Falafel Restaurant', 'Filipino Restaurant', 'Turkish Restaurant',\n",
        "         'Yoshoku Restaurant']\n",
        "\n",
        "casual = ['Coffee Shop', 'Café', 'Sandwich Place', 'Food Truck',\n",
        "          'Juice Bar', 'Frozen Yogurt Shop', 'Deli / Bodega', 'Dessert Shop',\n",
        "          'Hot Dog Joint', 'Burger Joint', 'Breakfast Spot', \n",
        "          'Fondue Restaurant']\n",
        "\n",
        "american = ['Southern / Soul Food Restaurant', 'Food & Drink Shop', \n",
        "            'Restaurant', 'American Restaurant', 'BBQ Joint', \n",
        "            'Theme Restaurant', 'New American Restaurant',\n",
        "            'Vegetarian / Vegan Restaurant', 'Seafood Restaurant']\n",
        "\n",
        "def categorize_restaurants(df):\n",
        "  \"\"\"\n",
        "    returns category of restaurant\n",
        "  \"\"\"\n",
        "    if df['categories'] in euro:\n",
        "        return 'euro'\n",
        "    if df['categories'] in latino:\n",
        "        return 'latino'\n",
        "    if df['categories'] in asian:\n",
        "        return 'asian'\n",
        "    if df['categories'] in casual:\n",
        "        return 'casual'\n",
        "    if df['categories'] in american:\n",
        "        return 'american'\n",
        "    if df['categories'] in bar:\n",
        "        return 'bar'\n",
        "\n",
        "\n",
        "raw_dataset['categories_classified'] = raw_dataset.apply(categorize_restaurants, axis=1)\n",
        "raw_dataset.head()"
      ],
      "execution_count": 70,
      "outputs": [
        {
          "output_type": "execute_result",
          "data": {
            "text/html": [
              "<div>\n",
              "<style scoped>\n",
              "    .dataframe tbody tr th:only-of-type {\n",
              "        vertical-align: middle;\n",
              "    }\n",
              "\n",
              "    .dataframe tbody tr th {\n",
              "        vertical-align: top;\n",
              "    }\n",
              "\n",
              "    .dataframe thead th {\n",
              "        text-align: right;\n",
              "    }\n",
              "</style>\n",
              "<table border=\"1\" class=\"dataframe\">\n",
              "  <thead>\n",
              "    <tr style=\"text-align: right;\">\n",
              "      <th></th>\n",
              "      <th>name</th>\n",
              "      <th>categories</th>\n",
              "      <th>lat</th>\n",
              "      <th>lng</th>\n",
              "      <th>id</th>\n",
              "      <th>city</th>\n",
              "      <th>likes</th>\n",
              "      <th>categories_classified</th>\n",
              "    </tr>\n",
              "  </thead>\n",
              "  <tbody>\n",
              "    <tr>\n",
              "      <th>9</th>\n",
              "      <td>DragonEats</td>\n",
              "      <td>Vietnamese Restaurant</td>\n",
              "      <td>37.778289</td>\n",
              "      <td>-122.423266</td>\n",
              "      <td>5005c520e4b0a8ae9875b787</td>\n",
              "      <td>San Francisco, California</td>\n",
              "      <td>175</td>\n",
              "      <td>asian</td>\n",
              "    </tr>\n",
              "    <tr>\n",
              "      <th>11</th>\n",
              "      <td>Smuggler's Cove</td>\n",
              "      <td>Tiki Bar</td>\n",
              "      <td>37.779386</td>\n",
              "      <td>-122.423422</td>\n",
              "      <td>4afe6db4f964a520682f22e3</td>\n",
              "      <td>San Francisco, California</td>\n",
              "      <td>1107</td>\n",
              "      <td>bar</td>\n",
              "    </tr>\n",
              "    <tr>\n",
              "      <th>13</th>\n",
              "      <td>Nojo Ramen Tavern</td>\n",
              "      <td>Ramen Restaurant</td>\n",
              "      <td>37.776637</td>\n",
              "      <td>-122.421270</td>\n",
              "      <td>4d8eabc7d265236af9a71017</td>\n",
              "      <td>San Francisco, California</td>\n",
              "      <td>350</td>\n",
              "      <td>asian</td>\n",
              "    </tr>\n",
              "    <tr>\n",
              "      <th>14</th>\n",
              "      <td>The Beer Hall</td>\n",
              "      <td>Beer Bar</td>\n",
              "      <td>37.776837</td>\n",
              "      <td>-122.417916</td>\n",
              "      <td>519fcb37498e91a13cb23d6b</td>\n",
              "      <td>San Francisco, California</td>\n",
              "      <td>291</td>\n",
              "      <td>bar</td>\n",
              "    </tr>\n",
              "    <tr>\n",
              "      <th>15</th>\n",
              "      <td>Fig &amp; Thistle Wine Bar</td>\n",
              "      <td>Wine Bar</td>\n",
              "      <td>37.777256</td>\n",
              "      <td>-122.423365</td>\n",
              "      <td>51aad1ee498e9bb839540dc7</td>\n",
              "      <td>San Francisco, California</td>\n",
              "      <td>296</td>\n",
              "      <td>bar</td>\n",
              "    </tr>\n",
              "  </tbody>\n",
              "</table>\n",
              "</div>"
            ],
            "text/plain": [
              "                      name             categories        lat         lng  \\\n",
              "9               DragonEats  Vietnamese Restaurant  37.778289 -122.423266   \n",
              "11         Smuggler's Cove               Tiki Bar  37.779386 -122.423422   \n",
              "13       Nojo Ramen Tavern       Ramen Restaurant  37.776637 -122.421270   \n",
              "14           The Beer Hall               Beer Bar  37.776837 -122.417916   \n",
              "15  Fig & Thistle Wine Bar               Wine Bar  37.777256 -122.423365   \n",
              "\n",
              "                          id                       city  likes  \\\n",
              "9   5005c520e4b0a8ae9875b787  San Francisco, California    175   \n",
              "11  4afe6db4f964a520682f22e3  San Francisco, California   1107   \n",
              "13  4d8eabc7d265236af9a71017  San Francisco, California    350   \n",
              "14  519fcb37498e91a13cb23d6b  San Francisco, California    291   \n",
              "15  51aad1ee498e9bb839540dc7  San Francisco, California    296   \n",
              "\n",
              "   categories_classified  \n",
              "9                  asian  \n",
              "11                   bar  \n",
              "13                 asian  \n",
              "14                   bar  \n",
              "15                   bar  "
            ]
          },
          "metadata": {
            "tags": []
          },
          "execution_count": 70
        }
      ]
    },
    {
      "cell_type": "code",
      "metadata": {
        "id": "g-0nJXOOpQbC",
        "colab": {
          "base_uri": "https://localhost:8080/",
          "height": 266
        },
        "outputId": "42ad958e-3a38-42a6-81fe-f4f1013d9043"
      },
      "source": [
        "# check how many are of each category\n",
        "pd.crosstab(index=raw_dataset[\"categories_classified\"], columns=\"count\")  "
      ],
      "execution_count": 72,
      "outputs": [
        {
          "output_type": "execute_result",
          "data": {
            "text/html": [
              "<div>\n",
              "<style scoped>\n",
              "    .dataframe tbody tr th:only-of-type {\n",
              "        vertical-align: middle;\n",
              "    }\n",
              "\n",
              "    .dataframe tbody tr th {\n",
              "        vertical-align: top;\n",
              "    }\n",
              "\n",
              "    .dataframe thead th {\n",
              "        text-align: right;\n",
              "    }\n",
              "</style>\n",
              "<table border=\"1\" class=\"dataframe\">\n",
              "  <thead>\n",
              "    <tr style=\"text-align: right;\">\n",
              "      <th>col_0</th>\n",
              "      <th>count</th>\n",
              "    </tr>\n",
              "    <tr>\n",
              "      <th>categories_classified</th>\n",
              "      <th></th>\n",
              "    </tr>\n",
              "  </thead>\n",
              "  <tbody>\n",
              "    <tr>\n",
              "      <th>american</th>\n",
              "      <td>19</td>\n",
              "    </tr>\n",
              "    <tr>\n",
              "      <th>asian</th>\n",
              "      <td>37</td>\n",
              "    </tr>\n",
              "    <tr>\n",
              "      <th>bar</th>\n",
              "      <td>28</td>\n",
              "    </tr>\n",
              "    <tr>\n",
              "      <th>casual</th>\n",
              "      <td>40</td>\n",
              "    </tr>\n",
              "    <tr>\n",
              "      <th>euro</th>\n",
              "      <td>18</td>\n",
              "    </tr>\n",
              "    <tr>\n",
              "      <th>latino</th>\n",
              "      <td>13</td>\n",
              "    </tr>\n",
              "  </tbody>\n",
              "</table>\n",
              "</div>"
            ],
            "text/plain": [
              "col_0                  count\n",
              "categories_classified       \n",
              "american                  19\n",
              "asian                     37\n",
              "bar                       28\n",
              "casual                    40\n",
              "euro                      18\n",
              "latino                    13"
            ]
          },
          "metadata": {
            "tags": []
          },
          "execution_count": 72
        }
      ]
    },
    {
      "cell_type": "code",
      "metadata": {
        "id": "ZzPM_v94pQbC",
        "colab": {
          "base_uri": "https://localhost:8080/",
          "height": 204
        },
        "outputId": "21e13f49-0953-4dbe-9b4d-0e7a1116ba49"
      },
      "source": [
        "# classify the likes into different ranking levels\n",
        "# Determine 3 rankings by binning based on percentiles\n",
        "\n",
        "thres1 = np.percentile(raw_dataset['likes'], 33)\n",
        "thres2 = np.percentile(raw_dataset['likes'], 66)\n",
        "\n",
        "\n",
        "def apply_rankings(df, thres1, thres2):\n",
        "  \"\"\"\n",
        "    return new column with rankings based on threshold bins\n",
        "  \"\"\"\n",
        "  if df['likes'] < thres1:\n",
        "      return 1\n",
        "  if df['likes'] >= thres1 or df['likes'] <= thres2:\n",
        "      return 2\n",
        "  if df['likes'] > thres2:\n",
        "      return 3\n",
        "\n",
        "raw_dataset['ranking'] = raw_dataset.apply(apply_rankings, axis=1, args = [thres1, thres2])\n",
        "raw_dataset.head()"
      ],
      "execution_count": 83,
      "outputs": [
        {
          "output_type": "execute_result",
          "data": {
            "text/html": [
              "<div>\n",
              "<style scoped>\n",
              "    .dataframe tbody tr th:only-of-type {\n",
              "        vertical-align: middle;\n",
              "    }\n",
              "\n",
              "    .dataframe tbody tr th {\n",
              "        vertical-align: top;\n",
              "    }\n",
              "\n",
              "    .dataframe thead th {\n",
              "        text-align: right;\n",
              "    }\n",
              "</style>\n",
              "<table border=\"1\" class=\"dataframe\">\n",
              "  <thead>\n",
              "    <tr style=\"text-align: right;\">\n",
              "      <th></th>\n",
              "      <th>name</th>\n",
              "      <th>categories</th>\n",
              "      <th>lat</th>\n",
              "      <th>lng</th>\n",
              "      <th>id</th>\n",
              "      <th>city</th>\n",
              "      <th>likes</th>\n",
              "      <th>categories_classified</th>\n",
              "      <th>ranking</th>\n",
              "    </tr>\n",
              "  </thead>\n",
              "  <tbody>\n",
              "    <tr>\n",
              "      <th>9</th>\n",
              "      <td>DragonEats</td>\n",
              "      <td>Vietnamese Restaurant</td>\n",
              "      <td>37.778289</td>\n",
              "      <td>-122.423266</td>\n",
              "      <td>5005c520e4b0a8ae9875b787</td>\n",
              "      <td>San Francisco, California</td>\n",
              "      <td>175</td>\n",
              "      <td>asian</td>\n",
              "      <td>2</td>\n",
              "    </tr>\n",
              "    <tr>\n",
              "      <th>11</th>\n",
              "      <td>Smuggler's Cove</td>\n",
              "      <td>Tiki Bar</td>\n",
              "      <td>37.779386</td>\n",
              "      <td>-122.423422</td>\n",
              "      <td>4afe6db4f964a520682f22e3</td>\n",
              "      <td>San Francisco, California</td>\n",
              "      <td>1107</td>\n",
              "      <td>bar</td>\n",
              "      <td>2</td>\n",
              "    </tr>\n",
              "    <tr>\n",
              "      <th>13</th>\n",
              "      <td>Nojo Ramen Tavern</td>\n",
              "      <td>Ramen Restaurant</td>\n",
              "      <td>37.776637</td>\n",
              "      <td>-122.421270</td>\n",
              "      <td>4d8eabc7d265236af9a71017</td>\n",
              "      <td>San Francisco, California</td>\n",
              "      <td>350</td>\n",
              "      <td>asian</td>\n",
              "      <td>2</td>\n",
              "    </tr>\n",
              "    <tr>\n",
              "      <th>14</th>\n",
              "      <td>The Beer Hall</td>\n",
              "      <td>Beer Bar</td>\n",
              "      <td>37.776837</td>\n",
              "      <td>-122.417916</td>\n",
              "      <td>519fcb37498e91a13cb23d6b</td>\n",
              "      <td>San Francisco, California</td>\n",
              "      <td>291</td>\n",
              "      <td>bar</td>\n",
              "      <td>2</td>\n",
              "    </tr>\n",
              "    <tr>\n",
              "      <th>15</th>\n",
              "      <td>Fig &amp; Thistle Wine Bar</td>\n",
              "      <td>Wine Bar</td>\n",
              "      <td>37.777256</td>\n",
              "      <td>-122.423365</td>\n",
              "      <td>51aad1ee498e9bb839540dc7</td>\n",
              "      <td>San Francisco, California</td>\n",
              "      <td>296</td>\n",
              "      <td>bar</td>\n",
              "      <td>2</td>\n",
              "    </tr>\n",
              "  </tbody>\n",
              "</table>\n",
              "</div>"
            ],
            "text/plain": [
              "                      name             categories        lat         lng  \\\n",
              "9               DragonEats  Vietnamese Restaurant  37.778289 -122.423266   \n",
              "11         Smuggler's Cove               Tiki Bar  37.779386 -122.423422   \n",
              "13       Nojo Ramen Tavern       Ramen Restaurant  37.776637 -122.421270   \n",
              "14           The Beer Hall               Beer Bar  37.776837 -122.417916   \n",
              "15  Fig & Thistle Wine Bar               Wine Bar  37.777256 -122.423365   \n",
              "\n",
              "                          id                       city  likes  \\\n",
              "9   5005c520e4b0a8ae9875b787  San Francisco, California    175   \n",
              "11  4afe6db4f964a520682f22e3  San Francisco, California   1107   \n",
              "13  4d8eabc7d265236af9a71017  San Francisco, California    350   \n",
              "14  519fcb37498e91a13cb23d6b  San Francisco, California    291   \n",
              "15  51aad1ee498e9bb839540dc7  San Francisco, California    296   \n",
              "\n",
              "   categories_classified  ranking  \n",
              "9                  asian        2  \n",
              "11                   bar        2  \n",
              "13                 asian        2  \n",
              "14                   bar        2  \n",
              "15                   bar        2  "
            ]
          },
          "metadata": {
            "tags": []
          },
          "execution_count": 83
        }
      ]
    },
    {
      "cell_type": "code",
      "metadata": {
        "id": "cC_nJU7gpQbD",
        "colab": {
          "base_uri": "https://localhost:8080/",
          "height": 238
        },
        "outputId": "e8c5edcf-22f7-42db-daeb-4f6470e9bc1c"
      },
      "source": [
        "# create dummies for linear regression modelling\n",
        "\n",
        "# one hot encoding\n",
        "reg_dataset = pd.get_dummies(raw_dataset[['categories_classified', \n",
        "                                          'city',]], \n",
        "                               prefix=\"\", \n",
        "                               prefix_sep=\"\")\n",
        "\n",
        "# add name, ranking, and likes columns back to dataframe\n",
        "reg_dataset['ranking'] = raw_dataset['ranking']\n",
        "reg_dataset['likes'] = raw_dataset['likes']\n",
        "reg_dataset['name'] = raw_dataset['name']\n",
        "\n",
        "# move name column to the first column\n",
        "reg_columns = [reg_dataset.columns[-1]] + list(reg_dataset.columns[:-1])\n",
        "reg_dataset = reg_dataset[reg_columns]\n",
        "\n",
        "\n",
        "reg_dataset.head()"
      ],
      "execution_count": 86,
      "outputs": [
        {
          "output_type": "execute_result",
          "data": {
            "text/html": [
              "<div>\n",
              "<style scoped>\n",
              "    .dataframe tbody tr th:only-of-type {\n",
              "        vertical-align: middle;\n",
              "    }\n",
              "\n",
              "    .dataframe tbody tr th {\n",
              "        vertical-align: top;\n",
              "    }\n",
              "\n",
              "    .dataframe thead th {\n",
              "        text-align: right;\n",
              "    }\n",
              "</style>\n",
              "<table border=\"1\" class=\"dataframe\">\n",
              "  <thead>\n",
              "    <tr style=\"text-align: right;\">\n",
              "      <th></th>\n",
              "      <th>name</th>\n",
              "      <th>american</th>\n",
              "      <th>asian</th>\n",
              "      <th>bar</th>\n",
              "      <th>casual</th>\n",
              "      <th>euro</th>\n",
              "      <th>latino</th>\n",
              "      <th>Los Angeles, California</th>\n",
              "      <th>San Diego, California</th>\n",
              "      <th>San Francisco, California</th>\n",
              "      <th>ranking</th>\n",
              "      <th>likes</th>\n",
              "    </tr>\n",
              "  </thead>\n",
              "  <tbody>\n",
              "    <tr>\n",
              "      <th>9</th>\n",
              "      <td>DragonEats</td>\n",
              "      <td>0</td>\n",
              "      <td>1</td>\n",
              "      <td>0</td>\n",
              "      <td>0</td>\n",
              "      <td>0</td>\n",
              "      <td>0</td>\n",
              "      <td>0</td>\n",
              "      <td>0</td>\n",
              "      <td>1</td>\n",
              "      <td>2</td>\n",
              "      <td>175</td>\n",
              "    </tr>\n",
              "    <tr>\n",
              "      <th>11</th>\n",
              "      <td>Smuggler's Cove</td>\n",
              "      <td>0</td>\n",
              "      <td>0</td>\n",
              "      <td>1</td>\n",
              "      <td>0</td>\n",
              "      <td>0</td>\n",
              "      <td>0</td>\n",
              "      <td>0</td>\n",
              "      <td>0</td>\n",
              "      <td>1</td>\n",
              "      <td>2</td>\n",
              "      <td>1107</td>\n",
              "    </tr>\n",
              "    <tr>\n",
              "      <th>13</th>\n",
              "      <td>Nojo Ramen Tavern</td>\n",
              "      <td>0</td>\n",
              "      <td>1</td>\n",
              "      <td>0</td>\n",
              "      <td>0</td>\n",
              "      <td>0</td>\n",
              "      <td>0</td>\n",
              "      <td>0</td>\n",
              "      <td>0</td>\n",
              "      <td>1</td>\n",
              "      <td>2</td>\n",
              "      <td>350</td>\n",
              "    </tr>\n",
              "    <tr>\n",
              "      <th>14</th>\n",
              "      <td>The Beer Hall</td>\n",
              "      <td>0</td>\n",
              "      <td>0</td>\n",
              "      <td>1</td>\n",
              "      <td>0</td>\n",
              "      <td>0</td>\n",
              "      <td>0</td>\n",
              "      <td>0</td>\n",
              "      <td>0</td>\n",
              "      <td>1</td>\n",
              "      <td>2</td>\n",
              "      <td>291</td>\n",
              "    </tr>\n",
              "    <tr>\n",
              "      <th>15</th>\n",
              "      <td>Fig &amp; Thistle Wine Bar</td>\n",
              "      <td>0</td>\n",
              "      <td>0</td>\n",
              "      <td>1</td>\n",
              "      <td>0</td>\n",
              "      <td>0</td>\n",
              "      <td>0</td>\n",
              "      <td>0</td>\n",
              "      <td>0</td>\n",
              "      <td>1</td>\n",
              "      <td>2</td>\n",
              "      <td>296</td>\n",
              "    </tr>\n",
              "  </tbody>\n",
              "</table>\n",
              "</div>"
            ],
            "text/plain": [
              "                      name  american  asian  bar  casual  euro  latino  \\\n",
              "9               DragonEats         0      1    0       0     0       0   \n",
              "11         Smuggler's Cove         0      0    1       0     0       0   \n",
              "13       Nojo Ramen Tavern         0      1    0       0     0       0   \n",
              "14           The Beer Hall         0      0    1       0     0       0   \n",
              "15  Fig & Thistle Wine Bar         0      0    1       0     0       0   \n",
              "\n",
              "    Los Angeles, California  San Diego, California  San Francisco, California  \\\n",
              "9                         0                      0                          1   \n",
              "11                        0                      0                          1   \n",
              "13                        0                      0                          1   \n",
              "14                        0                      0                          1   \n",
              "15                        0                      0                          1   \n",
              "\n",
              "    ranking  likes  \n",
              "9         2    175  \n",
              "11        2   1107  \n",
              "13        2    350  \n",
              "14        2    291  \n",
              "15        2    296  "
            ]
          },
          "metadata": {
            "tags": []
          },
          "execution_count": 86
        }
      ]
    },
    {
      "cell_type": "markdown",
      "metadata": {
        "id": "hhcdDy7LpQbD"
      },
      "source": [
        "# 3. Methodology"
      ]
    },
    {
      "cell_type": "markdown",
      "metadata": {
        "id": "3yIDIzbXpQbD"
      },
      "source": [
        "This project will utilize both linear and logistic regression machine learning methods to train and test the data. Namely, linear regression will be used in an attempt to predict the number of \"likes\" a new restaurant in this region will have. We will utilize the Sci-Kit Learn Package to run the model. \n",
        "\n",
        "We can also utilize logisitc regression as a classification method rather than direct prediction of the number of likes. Since the number of \"likes\" can be binned into different categories based on different percentile bins, it is also potentiallly possible to see which range of \"likes\" a new restaurant in this region will have. \n",
        "\n",
        "Since the \"likes\" are binned into multiple (more than 2) categories, the type of logistic regression will be multinomial. Additionally, although the ranges are indeed discrete categories, they are also ordinal in nature. Therefore the logistic regression will need to be specified as being both multinomial and ordinal. This can be done through the Sci-Kit Learn Package as well."
      ]
    },
    {
      "cell_type": "markdown",
      "metadata": {
        "id": "J7MHJ6pVpQbD"
      },
      "source": [
        "# 4. Results "
      ]
    },
    {
      "cell_type": "markdown",
      "metadata": {
        "id": "_gome5GmpQbE"
      },
      "source": [
        "## 4.1 Linear Regression Results"
      ]
    },
    {
      "cell_type": "markdown",
      "metadata": {
        "id": "eXeUT3hlpQbE"
      },
      "source": [
        "A linear regression model was trained on a random subsample of 80% of the sample and then tested on the other 20%. To see if this is a reasonable model. the residual sum of squares score and variance score were both calculated. Given the low variance score, this is probably not a valid/good way of modelling the data. Therefore, we move on to logistic regression."
      ]
    },
    {
      "cell_type": "code",
      "metadata": {
        "id": "Bjv03zDapQbE",
        "colab": {
          "base_uri": "https://localhost:8080/"
        },
        "outputId": "2d00405b-fcf5-4a41-ce48-984671bd0dfb"
      },
      "source": [
        "# Multiple Linear Regression\n",
        "\n",
        "msk = np.random.rand(len(reg_dataset)) < 0.8\n",
        "train = reg_dataset[msk]\n",
        "test = reg_dataset[~msk]\n",
        "\n",
        "regr = linear_model.LinearRegression()\n",
        "x = np.asanyarray(train[['american', 'asian', 'bar', 'casual',\n",
        "                         'euro', 'latino', 'Los Angeles, California', \n",
        "                         'San Diego, California', 'San Francisco, California']])\n",
        "y = np.asanyarray(train[['likes']])\n",
        "regr.fit (x, y)\n",
        "# The coefficients\n",
        "print ('Coefficients: ', regr.coef_)"
      ],
      "execution_count": 89,
      "outputs": [
        {
          "output_type": "stream",
          "text": [
            "Coefficients:  [[ 158.48147819   50.54049676  121.2099482   126.95564966   49.64553015\n",
            "    66.94623656  -57.78537586 -113.14345435  170.9288302 ]]\n"
          ],
          "name": "stdout"
        }
      ]
    },
    {
      "cell_type": "code",
      "metadata": {
        "id": "XGdFW3DlpQbE",
        "colab": {
          "base_uri": "https://localhost:8080/"
        },
        "outputId": "8c1639b2-cc40-4fb7-c451-ae9ec8d950ae"
      },
      "source": [
        "# Multiple Linear Regression Prediction Capabilities\n",
        "\n",
        "y_hat= regr.predict(test[['american', 'asian', 'bar', 'casual',\n",
        "                         'euro', 'latino', 'Los Angeles, California', \n",
        "                         'San Diego, California', 'San Francisco, California']])\n",
        "x = np.asanyarray(test[['american', 'asian', 'bar', 'casual',\n",
        "                         'euro', 'latino', 'Los Angeles, California', \n",
        "                         'San Diego, California', 'San Francisco, California']])\n",
        "y = np.asanyarray(test[['likes']])\n",
        "print(\"Residual sum of squares: %.2f\"\n",
        "      % np.mean((y_hat - y) ** 2))\n",
        "\n",
        "# Explained variance score: 1 is perfect prediction\n",
        "print('Variance score: %.2f' % regr.score(x, y))"
      ],
      "execution_count": 90,
      "outputs": [
        {
          "output_type": "stream",
          "text": [
            "Residual sum of squares: 39571.39\n",
            "Variance score: -0.80\n"
          ],
          "name": "stdout"
        }
      ]
    },
    {
      "cell_type": "markdown",
      "metadata": {
        "id": "44n3hWydpQbE"
      },
      "source": [
        "## 4.2 Logistic Regression Results"
      ]
    },
    {
      "cell_type": "markdown",
      "metadata": {
        "id": "VcCt8gtfpQbE"
      },
      "source": [
        "A multinomial ordinal logisitc regression model was trained on a random subsample of 80% of the sample and then tested on the other 20%. To see if this is a reasonable model, its jaccard similarity score and log-loss were calculated (66.66% and 1.009 respectively). Although this is not a perfect prediction, a similarity of 66% between the training set and test set is a reasonable result. The classification report is also printed later on below.\n",
        "<br>\n",
        "\n",
        "Given the modestly accurate ability of this model, we can also run the model on the full dataset. The coefficients show that opening a restaurant in San Francisco, opening a bar, or serving cuisine that is american or asian in nature, are associated negatively with \"likes.\" "
      ]
    },
    {
      "cell_type": "code",
      "metadata": {
        "id": "U-y9gXjspQbF",
        "colab": {
          "base_uri": "https://localhost:8080/"
        },
        "outputId": "78301e72-ff82-435c-c038-fe47d02dd7b8"
      },
      "source": [
        "# Multinomial Ordinal Logistic Regression\n",
        "\n",
        "x_train = np.asanyarray(train[['american', 'asian', 'bar', 'casual',\n",
        "                         'euro', 'latino', 'Los Angeles, California', \n",
        "                         'San Diego, California', 'San Francisco, California']])\n",
        "y_train = np.asanyarray(train['ranking'])\n",
        "\n",
        "x_test = np.asanyarray(test[['american', 'asian', 'bar', 'casual',\n",
        "                         'euro', 'latino', 'Los Angeles, California', \n",
        "                         'San Diego, California', 'San Francisco, California']])\n",
        "y_test = np.asanyarray(test['ranking'])\n",
        "\n",
        "mul_ordinal = linear_model.LogisticRegression(multi_class='multinomial',\n",
        "                                              solver='newton-cg',\n",
        "                                              fit_intercept=True).fit(x_train,\n",
        "                                                                      y_train)\n",
        "\n",
        "mul_ordinal\n",
        "\n",
        "coef = mul_ordinal.coef_[0]\n",
        "print (coef)"
      ],
      "execution_count": 91,
      "outputs": [
        {
          "output_type": "stream",
          "text": [
            "[ 0.47041481  0.43095355  0.59559234  0.25901742 -0.22010891  0.3352171\n",
            " -0.32206993 -0.35064342  0.67271347]\n"
          ],
          "name": "stdout"
        }
      ]
    },
    {
      "cell_type": "code",
      "metadata": {
        "id": "iB8u0ThApQbF",
        "colab": {
          "base_uri": "https://localhost:8080/"
        },
        "outputId": "5dd6ba97-eeed-4ac1-d3bc-3fcd57a02e96"
      },
      "source": [
        "# Multinomial Ordinal Logistic Regression Prediction Capabilities\n",
        "\n",
        "yhat = mul_ordinal.predict(x_test)\n",
        "yhat\n",
        "\n",
        "yhat_prob = mul_ordinal.predict_proba(x_test)\n",
        "yhat_prob\n",
        "\n",
        "\n",
        "jaccard_similarity_score(y_test, yhat)"
      ],
      "execution_count": 95,
      "outputs": [
        {
          "output_type": "stream",
          "text": [
            "/usr/local/lib/python3.6/dist-packages/sklearn/metrics/_classification.py:664: FutureWarning: jaccard_similarity_score has been deprecated and replaced with jaccard_score. It will be removed in version 0.23. This implementation has surprising behavior for binary and multiclass classification tasks.\n",
            "  FutureWarning)\n"
          ],
          "name": "stderr"
        },
        {
          "output_type": "execute_result",
          "data": {
            "text/plain": [
              "0.5151515151515151"
            ]
          },
          "metadata": {
            "tags": []
          },
          "execution_count": 95
        }
      ]
    },
    {
      "cell_type": "code",
      "metadata": {
        "id": "4N4qYfbHpQbF",
        "colab": {
          "base_uri": "https://localhost:8080/"
        },
        "outputId": "a4356305-9536-45a9-bb5a-472b7a5b9202"
      },
      "source": [
        "log_loss(y_test, yhat_prob)"
      ],
      "execution_count": 96,
      "outputs": [
        {
          "output_type": "execute_result",
          "data": {
            "text/plain": [
              "0.7306569195318565"
            ]
          },
          "metadata": {
            "tags": []
          },
          "execution_count": 96
        }
      ]
    },
    {
      "cell_type": "code",
      "metadata": {
        "id": "u6Og_kmBpQbF",
        "colab": {
          "base_uri": "https://localhost:8080/"
        },
        "outputId": "efae909f-66dc-4686-949d-534b2423a9d9"
      },
      "source": [
        "# Exploration of Coefficient Magnitudes of Full Dataset\n",
        "\n",
        "x_all = np.asanyarray(reg_dataset[['american', 'asian', 'bar', 'casual',\n",
        "                                   'euro', 'latino', 'Los Angeles, California', \n",
        "                                   'San Diego, California', 'San Francisco, California']])\n",
        "y_all = np.asanyarray(reg_dataset['ranking'])\n",
        "\n",
        "\n",
        "\n",
        "LR = linear_model.LogisticRegression(\n",
        "    multi_class='multinomial',\n",
        "    solver='newton-cg',\n",
        "    fit_intercept=True\n",
        "  ).fit(x_all, y_all)\n",
        "\n",
        "coef = LR.coef_[0]\n",
        "print (coef)"
      ],
      "execution_count": 98,
      "outputs": [
        {
          "output_type": "stream",
          "text": [
            "[ 0.71096151  0.3983821   0.71476868  0.26933379  0.01300037  0.33648868\n",
            " -0.19695283 -0.35016416  0.54711218]\n"
          ],
          "name": "stdout"
        }
      ]
    },
    {
      "cell_type": "code",
      "metadata": {
        "id": "DWk4nDA9pQbG",
        "colab": {
          "base_uri": "https://localhost:8080/"
        },
        "outputId": "7a6fa7b1-f4c5-4a21-d45b-a151507bf5dc"
      },
      "source": [
        "print (classification_report(y_test, yhat))"
      ],
      "execution_count": 99,
      "outputs": [
        {
          "output_type": "stream",
          "text": [
            "              precision    recall  f1-score   support\n",
            "\n",
            "           1       0.33      0.07      0.11        15\n",
            "           2       0.53      0.89      0.67        18\n",
            "\n",
            "    accuracy                           0.52        33\n",
            "   macro avg       0.43      0.48      0.39        33\n",
            "weighted avg       0.44      0.52      0.41        33\n",
            "\n"
          ],
          "name": "stdout"
        }
      ]
    },
    {
      "cell_type": "markdown",
      "metadata": {
        "id": "cjhxS6YvpQbG"
      },
      "source": [
        "## 5. Discussion"
      ]
    },
    {
      "cell_type": "markdown",
      "metadata": {
        "id": "XDRjZQqjpQbG"
      },
      "source": [
        "The first thing to note is that given the data, logistic regression presents a better fit for the data over linear regression. Using logistic regression we were able to obtain a Jaccard Similarity Score of 51%, which although not perfect, is more reasonable than the low variance score obtained from the linear regression. As stated before, please note that for the purposes of this project, we are assumming that likes are a good proxy for how well a new restaurant will do in terms of brand, image and by extension how well the restaurant will perform business-wise. Whether or not these assumptions hold up in a real-life scenario is up for discussion, but this project does contain limitations in scope due to the amount of data that can be fetched from the FourSquare API. \n",
        "\n",
        "<br>\n",
        "\n",
        "As such, to obtain insights into this data, we can proceed with breaking down the results of the logistic regression model. The results showed that the model is better at predicting if a restaurant will fall into the best or worst percentile of likes. This allows us to roughly predict the potential performance of the business opportunity. Different binning methods for the classes were attempted, but the use of 3 bins yielded the best Jaccard Similarity Score. "
      ]
    },
    {
      "cell_type": "markdown",
      "metadata": {
        "id": "1re4cnErpQbG"
      },
      "source": [
        "## 6. Conclusion"
      ]
    },
    {
      "cell_type": "markdown",
      "metadata": {
        "id": "xjUFpOeZpQbG"
      },
      "source": [
        "In conclusion, after analyzing restaurant \"likes\" in California from 300 restaurants, we have developed a general classification model for which \"ranking\" of likes a new restaurant will potentially fall into based on its \n",
        "characteristics."
      ]
    },
    {
      "cell_type": "code",
      "metadata": {
        "id": "nE9UVkUf-izR"
      },
      "source": [
        ""
      ],
      "execution_count": null,
      "outputs": []
    }
  ]
}